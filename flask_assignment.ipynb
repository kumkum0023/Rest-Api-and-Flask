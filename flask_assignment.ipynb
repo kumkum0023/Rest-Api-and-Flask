{
  "cells": [
    {
      "cell_type": "markdown",
      "metadata": {},
      "source": [
        "### Assignment Questions"
      ]
    },
    {
      "cell_type": "markdown",
      "metadata": {
        "id": "AqIuD5fzMPPX"
      },
      "source": [
        "1.What is a RESTful API?"
      ]
    },
    {
      "cell_type": "markdown",
      "metadata": {
        "id": "QISAF9cWMeHD"
      },
      "source": [
        "- A RESTful API (short for Representational State Transfer API) is a way for different computer systems or applications to communicate with each other over the internet, using a set of rules based on HTTP (the same protocol used for websites).\n",
        "\n",
        "Key features of a RESTful API:\n",
        "\n",
        "Resources: Everything (like a user, a product, a photo) is treated as a \"resource\" and is accessed via a unique URL. For example, https://api.example.com/users/123 might represent the user with ID 123.\n",
        "\n",
        "HTTP Methods: It uses standard HTTP methods to perform operations:\n",
        "\n",
        "GET — Retrieve a resource\n",
        "\n",
        "POST — Create a new resource\n",
        "\n",
        "PUT — Update an existing resource\n",
        "\n",
        "DELETE — Remove a resource\n",
        "\n",
        "Stateless: Every request from a client to the server must contain all the information needed to understand and process the request. The server doesn't store client state between requests.\n",
        "\n",
        "Data Formats: Data is usually exchanged in JSON format (sometimes XML), which is lightweight and easy for machines and humans to understand.\n",
        "\n",
        "Client-Server Architecture: The client and server are independent. The client only knows the API's URIs and how to interact with them, not how the server works internally."
      ]
    },
    {
      "cell_type": "markdown",
      "metadata": {
        "id": "sG9Mi3vdMfec"
      },
      "source": [
        "Ques2 Explain the concept of API specification?\n",
        "\n",
        "\n",
        "\n"
      ]
    },
    {
      "cell_type": "markdown",
      "metadata": {
        "id": "cU6W0mvFM0go"
      },
      "source": [
        "- An API specification is a detailed document or standard that describes exactly how an API should behave and how developers can interact with it. It outlines the endpoints (URLs) available, the data formats to use, the expected inputs (such as parameters or request bodies), and the possible outputs (like success or error responses). It also defines rules about authentication, rate limits, and error codes. Essentially, an API specification acts as a contract between the server (which provides the service) and the client (which uses the service), ensuring both sides understand what is expected. Good API specifications make integration easier, reduce errors, and allow teams to build or consume APIs without constant back-and-forth communication. Examples of popular API specification formats include OpenAPI (formerly Swagger), RAML, and API Blueprint.\n",
        "\n",
        "\n",
        "\n",
        "\n"
      ]
    },
    {
      "cell_type": "markdown",
      "metadata": {
        "id": "GQXg28HsMryj"
      },
      "source": [
        "Ques3 What is Flask, and why is it popular for building APIs?"
      ]
    },
    {
      "cell_type": "markdown",
      "metadata": {
        "id": "QhDWfah9M2DA"
      },
      "source": [
        "- Flask is a lightweight and flexible web framework for Python that is widely used for building web applications and APIs. It is popular because it is simple to use, highly customizable, and does not impose a lot of structure or dependencies, giving developers the freedom to design their applications as they like. Flask provides the essential tools to handle routes, requests, and responses but leaves more complex features like authentication, database integration, and input validation up to the developer through extensions. This minimalistic approach makes Flask a favorite choice for building APIs, especially for smaller projects, prototypes, or microservices where speed and simplicity are critical. Additionally, Flask has a large community, excellent documentation, and strong support for RESTful API development, which makes it easy for developers to get started and find help when needed."
      ]
    },
    {
      "cell_type": "markdown",
      "metadata": {
        "id": "bMRDP3LzM-C_"
      },
      "source": [
        "Ques4) What is routing in Flask?"
      ]
    },
    {
      "cell_type": "markdown",
      "metadata": {
        "id": "5Nqz_HssNDy0"
      },
      "source": [
        "- Routing in Flask refers to the process of defining how the application responds to different URL paths requested by a client. In Flask, routes are created using decorators that map specific URLs to Python functions, which are called view functions. When a user accesses a particular URL, Flask looks for a matching route and executes the corresponding function to generate a response. For example, if a route is defined for /home, visiting that URL will trigger the function associated with it. Routing makes it possible to build organized web applications where different URLs provide different content or functionalities. It also allows routes to handle different HTTP methods like GET, POST, PUT, and DELETE, enabling the creation of dynamic and interactive APIs. Flask’s simple and intuitive routing system is one of the reasons it is so popular for web development."
      ]
    },
    {
      "cell_type": "markdown",
      "metadata": {
        "id": "EtDyJIweNKqo"
      },
      "source": [
        "Ques5) How do you create a simple Flask application?"
      ]
    },
    {
      "cell_type": "markdown",
      "metadata": {
        "id": "UdZWHNMvNOzH"
      },
      "source": [
        "- To create a simple Flask application, you first need to install Flask using a package manager like pip. Once installed, you start by importing the Flask class from the flask module, create an instance of the Flask application, and define at least one route with a corresponding function that returns a response. For example, you might define a route for the homepage ('/') that returns a simple \"Hello, World!\" message. Finally, you call the run() method on the Flask app instance to start the development server. Typically, a basic Flask app looks like this: you create a Python file (like app.py), write the necessary code to set up the app and routes, and then execute it. Flask will start a local web server, and you can access your application by visiting http://localhost:5000 in a web browser. This straightforward process makes Flask an excellent choice for beginners and for quickly building and testing web applications or APIs."
      ]
    },
    {
      "cell_type": "markdown",
      "metadata": {
        "id": "fnA8ZxbjNV3L"
      },
      "source": [
        "Ques6) What are HTTP methods used in RESTful APIs?"
      ]
    },
    {
      "cell_type": "markdown",
      "metadata": {
        "id": "cZcWHW0oNZOJ"
      },
      "source": [
        "- In RESTful APIs, HTTP methods are used to define the action the client wants to perform on a resource. The most common HTTP methods are GET, POST, PUT, PATCH, and DELETE. GET is used to retrieve data from the server without modifying anything. POST is used to create a new resource, such as adding a new user or submitting a form. PUT is typically used to update an existing resource completely by replacing it, while PATCH is used to partially update a resource, changing only specific fields. DELETE is used to remove a resource from the server. Each method is designed to represent a specific kind of operation, making APIs predictable, easy to understand, and consistent. Using the correct HTTP method is a fundamental part of following REST principles and helps improve the clarity and functionality of an API."
      ]
    },
    {
      "cell_type": "markdown",
      "metadata": {
        "id": "HoQuHEYDNf1o"
      },
      "source": [
        "Ques7) What is the purpose of the @app.route() decorator in Flask?"
      ]
    },
    {
      "cell_type": "markdown",
      "metadata": {
        "id": "7owxSPUmNkZJ"
      },
      "source": [
        "- The @app.route() decorator in Flask is used to bind a specific URL path to a Python function, creating what is known as a route. This decorator tells the Flask application which function should be executed when a particular URL is accessed by a user or a client. For example, if you write @app.route('/home') above a function, it means that when someone visits /home on your website, that function will be called, and its return value will be sent as the response. The @app.route() decorator also allows you to specify which HTTP methods (like GET or POST) the route should accept. This makes it a crucial part of building dynamic web applications and APIs, as it defines the structure of your application’s interface and determines how different URLs are handled. Without it, Flask would not know how to map URLs to the logic written in your Python code."
      ]
    },
    {
      "cell_type": "markdown",
      "metadata": {
        "id": "MfyBtCzDNqqP"
      },
      "source": [
        "Ques8) What is the difference between GET and POST HTTP methods?"
      ]
    },
    {
      "cell_type": "markdown",
      "metadata": {
        "id": "YQbpEv02NuTe"
      },
      "source": [
        "- The main difference between the GET and POST HTTP methods lies in how they send data and their intended purpose. GET is used to request and retrieve data from a server without causing any side effects; it sends data as part of the URL, usually in the query string, making it visible and easy to bookmark or share. Because of this, GET requests are generally limited in the amount of data they can carry. POST, on the other hand, is used to send data to the server to create or update a resource. It sends data in the body of the HTTP request, not in the URL, making it more secure for transmitting sensitive or large amounts of information. POST requests often lead to changes on the server, like submitting a form, creating a new user, or processing a transaction. Thus, GET is primarily for fetching data, while POST is for submitting data that affects the server’s state."
      ]
    },
    {
      "cell_type": "markdown",
      "metadata": {
        "id": "Dkmex7xfN1Ey"
      },
      "source": [
        "Ques9) How do you handle errors in Flask APIs?"
      ]
    },
    {
      "cell_type": "markdown",
      "metadata": {
        "id": "COh65KZ9N5MA"
      },
      "source": [
        "- In Flask APIs, errors are typically handled using error handlers and try-except blocks to ensure that the application responds gracefully when something goes wrong. Flask allows you to define custom error handlers using the @app.errorhandler() decorator, where you can specify how the API should respond to specific HTTP errors like 404 (Not Found) or 500 (Internal Server Error). For example, if a user requests a resource that doesn’t exist, you can create a custom JSON response explaining the error instead of showing a generic server error page. Additionally, inside view functions, you can use try-except blocks to catch specific exceptions and return meaningful error messages with proper HTTP status codes. Flask also provides a abort() function that can immediately stop a request and return an error code, such as abort(400) for a bad request. Proper error handling makes APIs more robust, user-friendly, and easier to debug by providing clear, structured feedback when problems occur.\n",
        "\n",
        "\n",
        "\n",
        "\n",
        "\n",
        "\n",
        "\n",
        "\n"
      ]
    },
    {
      "cell_type": "markdown",
      "metadata": {
        "id": "7DjXoZL2OASM"
      },
      "source": [
        "Ques10) How do you connect Flask to a SQL database?"
      ]
    },
    {
      "cell_type": "markdown",
      "metadata": {
        "id": "klgjQVAOODsU"
      },
      "source": [
        "- To connect Flask to a SQL database, you typically use an ORM (Object Relational Mapper) like SQLAlchemy or a Flask extension such as Flask-SQLAlchemy. First, you install the necessary libraries, and then configure the Flask app by setting a database URI (Uniform Resource Identifier) that tells Flask where the database is located and how to connect to it. This URI includes information like the database type (e.g., SQLite, PostgreSQL, MySQL), username, password, server address, and database name. After configuring the app, you initialize the database connection by creating a database object tied to the Flask app. With an ORM like SQLAlchemy, you define your database tables as Python classes, making it easier to interact with the database through Python code instead of writing raw SQL queries. Flask handles the connection lifecycle automatically, and you can perform operations like adding, updating, deleting, and querying records seamlessly. This integration simplifies database management and helps organize application data in a clean and efficient way."
      ]
    },
    {
      "cell_type": "markdown",
      "metadata": {
        "id": "OqBBMN-eOKyQ"
      },
      "source": [
        "Ques11) What is the role of Flask-SQLAlchemy?"
      ]
    },
    {
      "cell_type": "markdown",
      "metadata": {
        "id": "etiU_Dr3OOBs"
      },
      "source": [
        "- Flask-SQLAlchemy is an extension for Flask that simplifies the integration of SQLAlchemy, an Object Relational Mapper (ORM), with Flask applications. Its primary role is to provide a higher-level interface for working with relational databases, allowing developers to interact with databases using Python objects rather than writing raw SQL queries. Flask-SQLAlchemy helps manage database connections, provides a convenient way to define models (tables) as Python classes, and supports CRUD (Create, Read, Update, Delete) operations in a more Pythonic way. The extension also handles database migrations, making it easier to evolve the database schema over time. By abstracting away the complexity of raw SQL, Flask-SQLAlchemy streamlines the process of building data-driven applications and APIs, improving both productivity and maintainability. It allows developers to focus more on the application logic while letting SQLAlchemy handle the database interactions.\n",
        "\n",
        "\n",
        "\n",
        "\n",
        "\n",
        "\n",
        "\n",
        "\n"
      ]
    },
    {
      "cell_type": "markdown",
      "metadata": {
        "id": "eultMKmsOUHC"
      },
      "source": [
        "Ques12) What are Flask blueprints, and how are they useful?"
      ]
    },
    {
      "cell_type": "markdown",
      "metadata": {
        "id": "EqUpXBvvOXrz"
      },
      "source": [
        "- Flask Blueprints are a way to organize and structure a Flask application into smaller, reusable components. A blueprint in Flask is essentially a module or a set of related routes, templates, and static files that can be created independently and then registered with the main application. This allows developers to break down large applications into more manageable pieces, making the codebase more modular and easier to maintain. For example, you might create a blueprint for user authentication, another for managing products, and another for handling administrative tasks. Blueprints also promote reusability, as you can use them across multiple applications. They help keep your Flask app organized, as each blueprint can encapsulate its own views, error handling, and logic, and then be integrated into the main app seamlessly. Overall, blueprints make it easier to scale Flask applications, collaborate with teams, and maintain clean, well-structured code.\n",
        "\n",
        "\n",
        "\n",
        "\n",
        "\n",
        "\n",
        "\n",
        "\n"
      ]
    },
    {
      "cell_type": "markdown",
      "metadata": {
        "id": "KRCHl14pOdml"
      },
      "source": [
        "Ques13) What is the purpose of Flask's request object?"
      ]
    },
    {
      "cell_type": "markdown",
      "metadata": {
        "id": "30INWcv3OhMG"
      },
      "source": [
        "- Flask's request object is used to handle and access incoming data from HTTP requests made to the Flask application. It provides various attributes and methods that allow developers to interact with the data sent by the client. This includes accessing data from the URL (such as query parameters), the form (such as data submitted through a POST request), and even file uploads. The request object allows you to retrieve information like request headers, JSON payloads, cookies, and user authentication details. For example, request.args is used to get query parameters, while request.form retrieves form data, and request.json is used to access JSON data sent in the body of the request. The request object is crucial for handling dynamic interactions with users, as it enables the app to respond based on the specific input sent with each request. It provides the means to gather and process data needed to fulfill API calls or web pages."
      ]
    },
    {
      "cell_type": "markdown",
      "metadata": {
        "id": "ERoJNlZGOl8o"
      },
      "source": [
        "Ques14) How do you create a RESTful API endpoint using Flask?"
      ]
    },
    {
      "cell_type": "markdown",
      "metadata": {
        "id": "jtHkrWBPOqNa"
      },
      "source": [
        "- To create a RESTful API endpoint in Flask, you first need to define a route using the @app.route() decorator and specify the HTTP method that the endpoint will handle (e.g., GET, POST, PUT, DELETE). Inside the corresponding function, you define the logic for processing the request and returning a response."
      ]
    },
    {
      "cell_type": "markdown",
      "metadata": {
        "id": "WWKuk4FyOzvT"
      },
      "source": [
        "Ques15) What is the purpose of Flask's jsonify() function?"
      ]
    },
    {
      "cell_type": "markdown",
      "metadata": {
        "id": "vF319zl5O3d9"
      },
      "source": [
        "- Flask's jsonify() function is used to convert Python objects, such as dictionaries or lists, into JSON format, which is the standard data format for RESTful APIs. When building APIs, the server often needs to send data in a structured way that clients can understand, and JSON is commonly used for this purpose. The jsonify() function automatically serializes Python objects (like dictionaries, lists, or tuples) into a JSON response, sets the appropriate content type (application/json), and ensures the response is properly formatted. For example, when you return a dictionary using jsonify(), Flask will convert it into a JSON response that can be sent to the client, allowing the client to easily parse and use the data. This simplifies the process of creating and returning JSON responses in Flask-based APIs, ensuring compatibility with front-end applications or other services consuming the API."
      ]
    },
    {
      "cell_type": "markdown",
      "metadata": {
        "id": "8E0X2SUJO8KT"
      },
      "source": [
        "Ques16) Explain Flask’s url_for() function?"
      ]
    },
    {
      "cell_type": "markdown",
      "metadata": {
        "id": "JDX9cUiMO_Y-"
      },
      "source": [
        "- Flask’s url_for() function is used to dynamically generate the URL for a specific endpoint in the application, based on the name of the view function. This function is particularly useful for creating links to routes within your app without hardcoding the URL, which improves flexibility and maintainability. Instead of manually specifying a URL (e.g., /about), you can use url_for('about') to generate the correct URL for the about() view function. This approach is especially beneficial when URLs change, as you only need to update the route definition, and url_for() will automatically reflect the change throughout the app. Additionally, url_for() can also handle route parameters. For instance, if your route takes dynamic parts like an ID (/user/<id>), you can pass the value of id as an argument in url_for(), like url_for('user', id=42), which generates the URL /user/42. This reduces the risk of errors from hardcoded paths and keeps your app’s structure more maintainable and adaptable to changes.\n",
        "\n",
        "\n",
        "\n",
        "\n",
        "\n",
        "\n",
        "\n",
        "\n"
      ]
    },
    {
      "cell_type": "markdown",
      "metadata": {
        "id": "26wf2IAxPFux"
      },
      "source": [
        "Ques17) How does Flask handle static files (CSS, JavaScript, etc.)?"
      ]
    },
    {
      "cell_type": "markdown",
      "metadata": {
        "id": "QtpIyaBbPJ85"
      },
      "source": [
        "- Flask handles static files, such as CSS, JavaScript, and image files, through a dedicated folder called static, which is automatically recognized by Flask. When you create a Flask application, it expects static files to be placed in the static directory at the root of your project. By default, Flask serves these static files at a URL path /static/, meaning that if you store a CSS file in static/styles.css, it can be accessed via the URL http://yourapp/static/styles.css. To include these static files in your HTML templates, Flask provides a special function called url_for('static', filename='...'). This function generates the correct URL for the static files, ensuring that the path is always accurate, even if the application’s structure changes."
      ]
    },
    {
      "cell_type": "markdown",
      "metadata": {
        "id": "KxgqQiSFPPlY"
      },
      "source": [
        "Ques18)   What is an API specification, and how does it help in building a Flask API?"
      ]
    },
    {
      "cell_type": "markdown",
      "metadata": {
        "id": "41cjGREBPVLA"
      },
      "source": [
        "- An API specification is a detailed document or blueprint that defines how an API should behave, including the structure of its endpoints, request methods, data formats, and expected responses. It serves as a contract between the API provider (such as a Flask application) and the consumers (clients or other services), ensuring clear communication and consistency in how the API is used. For example, an API specification may include details about the URL paths, which HTTP methods (GET, POST, PUT, DELETE) to use, the required input parameters, the format of the request and response bodies (often JSON), and the HTTP status codes that will be returned in different situations. In the context of a Flask API, having a clear API specification helps developers plan and structure the application, making it easier to implement the endpoints and handle edge cases. It also aids in testing, debugging, and documentation, ensuring that both front-end and back-end developers understand the expected behavior of the API and can work independently. Popular formats for API specifications include OpenAPI (formerly Swagger), RAML, and API Blueprint, which can be used to generate interactive documentation or automated tests for the Flask API."
      ]
    },
    {
      "cell_type": "markdown",
      "metadata": {
        "id": "HrGgTTe2Pc16"
      },
      "source": [
        "Ques19) What are HTTP status codes, and why are they important in a Flask API?"
      ]
    },
    {
      "cell_type": "markdown",
      "metadata": {
        "id": "cVQVNtj0PgYn"
      },
      "source": [
        "- HTTP status codes are three-digit numbers returned by a server to indicate the result of an HTTP request. They provide essential information about the success or failure of the request, and are categorized into five groups: 1xx (Informational), 2xx (Successful), 3xx (Redirection), 4xx (Client Errors), and 5xx (Server Errors). In a Flask API, these status codes are crucial because they inform the client about the outcome of their request and help handle the response appropriately. For instance, a 200 OK status indicates that the request was successful, while a 404 Not Found means the requested resource does not exist. A 400 Bad Request could suggest that the request is malformed or missing required data, and a 500 Internal Server Error indicates a problem on the server side. Using the correct status code helps make the API more predictable, user-friendly, and easier to debug. In Flask, you can set the status code in the response by returning a tuple, such as return jsonify(data), 200. Proper use of HTTP status codes enhances the clarity of the API and improves the overall developer and user experience."
      ]
    },
    {
      "cell_type": "markdown",
      "metadata": {
        "id": "4LdgLxIlPl52"
      },
      "source": [
        "Ques20) How do you handle POST requests in Flask?"
      ]
    },
    {
      "cell_type": "markdown",
      "metadata": {
        "id": "gn392OOEPpbP"
      },
      "source": [
        "- In Flask, POST requests are handled by defining a route that listens for the POST method, which is typically used to submit data to the server for creating or updating resources. To handle a POST request, you use the @app.route() decorator and specify the methods=['POST'] argument, indicating that the route should respond to POST requests. Inside the view function, you can access the data sent with the request using request.form (for form data), request.json (for JSON payloads), or request.data (for raw data). After processing the data, you can return a response, often with a status code like 201 Created to indicate successful resource creation."
      ]
    },
    {
      "cell_type": "markdown",
      "metadata": {
        "id": "IlyF31RCPwOa"
      },
      "source": [
        "Ques21) How would you secure a Flask API?-"
      ]
    },
    {
      "cell_type": "markdown",
      "metadata": {
        "id": "MCRQG57UP08G"
      },
      "source": [
        "- Securing a Flask API involves implementing various strategies to protect both the data and the users interacting with the application. One of the most common approaches is using authentication and authorization mechanisms. Authentication ensures that only authorized users can access the API, while authorization ensures users can only access the resources they are permitted to. JWT (JSON Web Tokens) or OAuth are often used to handle authentication, allowing users to log in and receive a token that is included in subsequent requests to validate their identity.\n",
        "\n",
        "Additionally, rate limiting can be implemented to prevent abuse by restricting the number of requests a user or client can make in a given time period, which helps mitigate brute force or denial-of-service attacks. CORS (Cross-Origin Resource Sharing) can be configured to restrict which domains are allowed to make requests to your API, adding another layer of security.\n",
        "\n",
        "To further secure the API, input validation is crucial to protect against common security vulnerabilities like SQL injection or XSS (Cross-Site Scripting). Flask provides tools like Flask-WTF for form validation and SQLAlchemy ORM for safer database queries. It’s also recommended to use HTTPS (SSL/TLS encryption) to ensure that the data exchanged between the client and the server is encrypted, protecting it from man-in-the-middle attacks. Finally, error handling should be designed to avoid exposing sensitive information in error messages that could help attackers exploit vulnerabilities.\n",
        "\n",
        "By combining these security practices, you can significantly reduce the risk of unauthorized access and ensure that your Flask API remains robust and secure."
      ]
    },
    {
      "cell_type": "markdown",
      "metadata": {
        "id": "NP6RkGb7P7-X"
      },
      "source": [
        "Ques22) What is the significance of the Flask-RESTful extension?"
      ]
    },
    {
      "cell_type": "markdown",
      "metadata": {
        "id": "8DgPsIrXQAHl"
      },
      "source": [
        "- The Flask-RESTful extension is designed to simplify the process of building RESTful APIs with Flask by providing tools and abstractions that make it easier to create, manage, and organize the API’s resources. It introduces the concept of resources, which are Python classes that represent the various endpoints of your API. These resource classes encapsulate the logic for handling HTTP methods (like GET, POST, PUT, DELETE) on specific routes, making the code more modular, reusable, and easier to maintain. Flask-RESTful also provides automatic request parsing and validation, reducing the need to manually handle data extraction from requests. For example, it can parse JSON data from requests and automatically convert it into Python objects, saving time and reducing errors. Additionally, Flask-RESTful supports error handling, serialization of data to JSON, and custom response formatting, which simplifies the process of crafting well-structured and efficient APIs. Overall, Flask-RESTful enhances Flask’s capabilities for building REST APIs by offering a more structured and efficient approach to managing API resources, thus allowing developers to focus more on business logic rather than the intricacies of handling HTTP methods and responses."
      ]
    },
    {
      "cell_type": "markdown",
      "metadata": {
        "id": "JRrRvvBdQGZw"
      },
      "source": [
        "Ques23) What is the role of Flask’s session object?"
      ]
    },
    {
      "cell_type": "markdown",
      "metadata": {
        "id": "f9XOyljIQKIc"
      },
      "source": [
        "- Flask’s session object is used to store data specific to a user’s session, allowing the server to persist information between different requests made by the same client. The session is typically used for storing data like user authentication status, preferences, or temporary information during a user’s interaction with the application. The session data is stored on the server and associated with a unique session ID, which is sent to the client as a cookie. This allows Flask to maintain state across stateless HTTP requests, making it possible to track a user’s activity or store data such as a shopping cart or login credentials without relying on URL parameters or form submissions. Flask’s session object is built on top of secure cookies, ensuring that the data is encrypted and not tampered with by the client. You can set values in the session object using session['key'] = value and retrieve them with session.get('key'). By default, the session object is stored client-side, but more complex or large-scale applications can use server-side storage for sessions for better scalability and security."
      ]
    },
    {
      "cell_type": "markdown",
      "metadata": {
        "id": "3X1JvNBtQVf3"
      },
      "source": [
        "Practical Question"
      ]
    },
    {
      "cell_type": "markdown",
      "metadata": {
        "id": "KOLcDbfdQeFX"
      },
      "source": [
        "Ques1)  How do you create a basic Flask application?"
      ]
    },
    {
      "cell_type": "code",
      "execution_count": 1,
      "metadata": {
        "id": "JoO-df4lQimQ"
      },
      "outputs": [
        {
          "ename": "SyntaxError",
          "evalue": "invalid syntax (689399952.py, line 1)",
          "output_type": "error",
          "traceback": [
            "  \u001b[36mCell\u001b[39m\u001b[36m \u001b[39m\u001b[32mIn[1]\u001b[39m\u001b[32m, line 1\u001b[39m\n\u001b[31m    \u001b[39m\u001b[31mpip install Flask\u001b[39m\n        ^\n\u001b[31mSyntaxError\u001b[39m\u001b[31m:\u001b[39m invalid syntax\n"
          ]
        }
      ],
      "source": [
        "pip install Flask\n",
        "\n",
        "from flask import Flask\n",
        "\n",
        "app = Flask(__name__)\n",
        "\n",
        "@app.route('/')\n",
        "def home():\n",
        "    return \"Hello, World!\"\n",
        "\n",
        "if __name__ == '__main__':\n",
        "    app.run(debug=True)\n",
        "\n",
        "python app.py\n"
      ]
    },
    {
      "cell_type": "markdown",
      "metadata": {
        "id": "pUA7RI2hQruF"
      },
      "source": [
        "Ques2) How do you serve static files like images or CSS in Flask?"
      ]
    },
    {
      "cell_type": "code",
      "execution_count": null,
      "metadata": {
        "id": "3Z5nHcKtQuid"
      },
      "outputs": [],
      "source": [
        "/my_flask_app\n",
        "    /static\n",
        "        /css\n",
        "            style.css\n",
        "        /images\n",
        "            logo.png\n",
        "    app.py\n",
        "\n",
        "<!-- Example of including a CSS file -->\n",
        "<link rel=\"stylesheet\" href=\"{{ url_for('static', filename='css/style.css') }}\">\n",
        "\n",
        "<!-- Example of displaying an image -->\n",
        "<img src=\"{{ url_for('static', filename='images/logo.png') }}\" alt=\"Logo\">\n"
      ]
    },
    {
      "cell_type": "markdown",
      "metadata": {
        "id": "niAasS4XQ6yt"
      },
      "source": [
        "Ques3) How do you define different routes with different HTTP methods in Flask?"
      ]
    },
    {
      "cell_type": "code",
      "execution_count": null,
      "metadata": {
        "id": "rrjct_ynQ_t4"
      },
      "outputs": [],
      "source": [
        "from flask import Flask, request, jsonify\n",
        "\n",
        "app = Flask(__name__)\n",
        "\n",
        "@app.route('/example', methods=['GET'])\n",
        "def get_example():\n",
        "    return jsonify({\"message\": \"This is a GET request\"})\n",
        "\n",
        "@app.route('/example', methods=['POST'])\n",
        "def post_example():\n",
        "    data = request.get_json()\n",
        "    return jsonify({\"message\": \"POST request received\", \"data\": data}), 201\n",
        "\n",
        "@app.route('/example', methods=['PUT'])\n",
        "def put_example():\n",
        "    data = request.get_json()\n",
        "    return jsonify({\"message\": \"PUT request received\", \"updated_data\": data})\n",
        "\n",
        "@app.route('/example', methods=['DELETE'])\n",
        "def delete_example():\n",
        "    return jsonify({\"message\": \"DELETE request received\"}), 204\n",
        "\n",
        "if __name__ == '__main__':\n",
        "    app.run(debug=True)\n"
      ]
    },
    {
      "cell_type": "markdown",
      "metadata": {
        "id": "1Os6IW4hRGcz"
      },
      "source": [
        "Ques4) How do you render HTML templates in Flask?"
      ]
    },
    {
      "cell_type": "code",
      "execution_count": null,
      "metadata": {
        "id": "lm8OhhlPRPef"
      },
      "outputs": [],
      "source": [
        "from flask import Flask, render_template\n",
        "\n",
        "app = Flask(__name__)\n",
        "\n",
        "@app.route('/')\n",
        "def home():\n",
        "    return render_template('index.html', title=\"Flask App\", message=\"Welcome to Flask!\")\n",
        "\n",
        "if __name__ == '__main__':\n",
        "    app.run(debug=True)\n",
        "\n",
        "<!DOCTYPE html>\n",
        "<html lang=\"en\">\n",
        "<head>\n",
        "    <meta charset=\"UTF-8\">\n",
        "    <title>{{ title }}</title>\n",
        "</head>\n",
        "<body>\n",
        "    <h1>{{ message }}</h1>\n",
        "</body>\n",
        "</html>\n"
      ]
    },
    {
      "cell_type": "markdown",
      "metadata": {
        "id": "SMWZVq1uRbC7"
      },
      "source": [
        "Ques5) How can you generate URLs for routes in Flask using url_for?"
      ]
    },
    {
      "cell_type": "code",
      "execution_count": null,
      "metadata": {
        "id": "qM2tGuS6RfWW"
      },
      "outputs": [],
      "source": [
        "#Create the Flask App\n",
        "\n",
        "from flask import Flask, url_for, render_template\n",
        "\n",
        "app = Flask(__name__)\n",
        "\n",
        "@app.route('/')\n",
        "def home():\n",
        "    return render_template('index.html')\n",
        "\n",
        "@app.route('/about')\n",
        "def about():\n",
        "    return \"This is the About page\"\n",
        "\n",
        "if __name__ == '__main__':\n",
        "    app.run(debug=True)\n",
        "\n",
        "\n",
        "\n",
        "<!DOCTYPE html>\n",
        "<html lang=\"en\">\n",
        "<head>\n",
        "    <meta charset=\"UTF-8\">\n",
        "    <title>Flask URL Generation</title>\n",
        "</head>\n",
        "<body>\n",
        "    <h1>Welcome to Flask!</h1>\n",
        "    <a href=\"{{ url_for('about') }}\">Go to About Page</a>\n",
        "</body>\n",
        "</html>\n"
      ]
    },
    {
      "cell_type": "markdown",
      "metadata": {
        "id": "x0dY-rJfRsRA"
      },
      "source": [
        "Ques6) How do you handle forms in Flask?"
      ]
    },
    {
      "cell_type": "code",
      "execution_count": null,
      "metadata": {
        "id": "fvYKuydGRwRF"
      },
      "outputs": [],
      "source": [
        "#Create the Flask App:\n",
        "\n",
        "from flask import Flask, render_template, request, redirect, url_for\n",
        "\n",
        "app = Flask(__name__)\n",
        "\n",
        "@app.route('/', methods=['GET', 'POST'])\n",
        "def home():\n",
        "    if request.method == 'POST':\n",
        "        name = request.form['name']\n",
        "        return redirect(url_for('greet', name=name))\n",
        "    return render_template('form.html')\n",
        "\n",
        "@app.route('/greet/<name>')\n",
        "def greet(name):\n",
        "    return f\"Hello, {name}!\"\n",
        "\n",
        "if __name__ == '__main__':\n",
        "    app.run(debug=True)\n",
        "\n",
        "\n",
        "#Create the Template\n",
        "\n",
        "<!DOCTYPE html>\n",
        "<html lang=\"en\">\n",
        "<head>\n",
        "    <meta charset=\"UTF-8\">\n",
        "    <title>Flask Form Example</title>\n",
        "</head>\n",
        "<body>\n",
        "    <h1>Enter Your Name</h1>\n",
        "    <form method=\"POST\">\n",
        "        <label for=\"name\">Name:</label>\n",
        "        <input type=\"text\" id=\"name\" name=\"name\" required>\n",
        "        <button type=\"submit\">Submit</button>\n",
        "    </form>\n",
        "</body>\n",
        "</html>\n"
      ]
    },
    {
      "cell_type": "markdown",
      "metadata": {
        "id": "aXBQsOW5R-Jc"
      },
      "source": [
        "Ques7) How can you validate form data in Flask?"
      ]
    },
    {
      "cell_type": "code",
      "execution_count": null,
      "metadata": {
        "id": "5YTeGYg1SCx3"
      },
      "outputs": [],
      "source": [
        "from flask import Flask, render_template, request, redirect, url_for, flash\n",
        "\n",
        "app = Flask(__name__)\n",
        "app.secret_key = 'your_secret_key'  # Needed for flash messages\n",
        "\n",
        "@app.route('/', methods=['GET', 'POST'])\n",
        "def home():\n",
        "    if request.method == 'POST':\n",
        "        name = request.form.get('name')\n",
        "\n",
        "        if not name:\n",
        "            flash(\"Name is required!\", \"error\")\n",
        "            return redirect(url_for('home'))\n",
        "\n",
        "        if len(name) < 3:\n",
        "            flash(\"Name must be at least 3 characters long!\", \"error\")\n",
        "            return redirect(url_for('home'))\n",
        "\n",
        "        return f\"Hello, {name}!\"\n",
        "\n",
        "    return render_template('form.html')\n",
        "\n",
        "if __name__ == '__main__':\n",
        "    app.run(debug=True)\n",
        "\n",
        "\n",
        "\n",
        "<!DOCTYPE html>\n",
        "<html lang=\"en\">\n",
        "<head>\n",
        "    <meta charset=\"UTF-8\">\n",
        "    <title>Flask Form Validation</title>\n",
        "</head>\n",
        "<body>\n",
        "    <h1>Enter Your Name</h1>\n",
        "    <form method=\"POST\">\n",
        "        <label for=\"name\">Name:</label>\n",
        "        <input type=\"text\" id=\"name\" name=\"name\" required>\n",
        "        <button type=\"submit\">Submit</button>\n",
        "    </form>\n",
        "\n",
        "    {% with messages = get_flashed_messages(with_categories=true) %}\n",
        "        {% if messages %}\n",
        "            <ul>\n",
        "                {% for category, message in messages %}\n",
        "                    <li class=\"flash {{ category }}\">{{ message }}</li>\n",
        "                {% endfor %}\n",
        "            </ul>\n",
        "        {% endif %}\n",
        "    {% endwith %}\n",
        "</body>\n",
        "</html>\n"
      ]
    },
    {
      "cell_type": "markdown",
      "metadata": {
        "id": "jrk_RBx6SVth"
      },
      "source": [
        "Ques8) How do you manage sessions in Flask?"
      ]
    },
    {
      "cell_type": "code",
      "execution_count": null,
      "metadata": {
        "id": "VD9yMqApSZ0Y"
      },
      "outputs": [],
      "source": [
        "from flask import Flask, session, redirect, url_for, request\n",
        "\n",
        "app = Flask(__name__)\n",
        "\n",
        "app.secret_key = 'your_secret_key'\n",
        "\n",
        "@app.route('/')\n",
        "def home():\n",
        "    if 'username' in session:\n",
        "        return f'Hello, {session[\"username\"]}!'\n",
        "    return 'You are not logged in!'\n",
        "\n",
        "@app.route('/login', methods=['GET', 'POST'])\n",
        "def login():\n",
        "    if request.method == 'POST':\n",
        "        session['username'] = request.form['username']\n",
        "        return redirect(url_for('home'))\n",
        "    return '''\n",
        "        <form method=\"post\">\n",
        "            Username: <input type=\"text\" name=\"username\">\n",
        "            <button type=\"submit\">Login</button>\n",
        "        </form>\n",
        "    '''\n",
        "\n",
        "@app.route('/logout')\n",
        "def logout():\n",
        "    session.pop('username', None)\n",
        "    return redirect(url_for('home'))\n",
        "\n",
        "if __name__ == '__main__':\n",
        "    app.run(debug=True)\n"
      ]
    },
    {
      "cell_type": "markdown",
      "metadata": {
        "id": "8vKpZJd-ShaW"
      },
      "source": [
        "Ques9) How do you redirect to a different route in Flask?"
      ]
    },
    {
      "cell_type": "code",
      "execution_count": null,
      "metadata": {
        "id": "RzeEoDnWSnmx"
      },
      "outputs": [],
      "source": [
        "from flask import Flask, redirect, url_for\n",
        "\n",
        "app = Flask(__name__)\n",
        "\n",
        "@app.route('/')\n",
        "def home():\n",
        "    return 'Home Page'\n",
        "\n",
        "@app.route('/login')\n",
        "def login():\n",
        "    return 'Login Page'\n",
        "\n",
        "@app.route('/redirect_home')\n",
        "def redirect_home():\n",
        "    return redirect(url_for('home'))\n",
        "\n",
        "@app.route('/redirect_login')\n",
        "def redirect_login():\n",
        "    return redirect(url_for('login'))\n",
        "\n",
        "if __name__ == '__main__':\n",
        "    app.run(debug=True)\n"
      ]
    },
    {
      "cell_type": "markdown",
      "metadata": {
        "id": "Iw2xrDwwSuVy"
      },
      "source": [
        "Ques10) How do you handle errors in Flask (e.g., 404)?"
      ]
    },
    {
      "cell_type": "code",
      "execution_count": null,
      "metadata": {
        "id": "9WUBMJbFS0us"
      },
      "outputs": [],
      "source": [
        "from flask import Flask, render_template\n",
        "\n",
        "app = Flask(__name__)\n",
        "\n",
        "@app.route('/')\n",
        "def home():\n",
        "    return 'Home Page'\n",
        "\n",
        "@app.route('/about')\n",
        "def about():\n",
        "    return 'About Page'\n",
        "\n",
        "@app.errorhandler(404)\n",
        "def not_found_error(error):\n",
        "    return render_template('404.html'), 404\n",
        "\n",
        "@app.errorhandler(500)\n",
        "def internal_error(error):\n",
        "    return \"Internal Server Error\", 500\n",
        "\n",
        "if __name__ == '__main__':\n",
        "    app.run(debug=True)\n"
      ]
    },
    {
      "cell_type": "markdown",
      "metadata": {
        "id": "1w6lYynySzzX"
      },
      "source": [
        "Ques11) How do you structure a Flask app using Blueprints?"
      ]
    },
    {
      "cell_type": "code",
      "execution_count": null,
      "metadata": {
        "id": "0VHOqoO8TACi"
      },
      "outputs": [],
      "source": [
        "/my_flask_app\n",
        "    /app\n",
        "        /home\n",
        "            __init__.py\n",
        "            routes.py\n",
        "        /auth\n",
        "            __init__.py\n",
        "            routes.py\n",
        "        __init__.py\n",
        "    run.py\n",
        "\n",
        "#2. app/__init__.py (Main App Initialization):\n",
        "from flask import Flask\n",
        "from .home import home_bp\n",
        "from .auth import auth_bp\n",
        "\n",
        "def create_app():\n",
        "    app = Flask(__name__)\n",
        "\n",
        "    # Register Blueprints\n",
        "    app.register_blueprint(home_bp, url_prefix='/')\n",
        "    app.register_blueprint(auth_bp, url_prefix='/auth')\n",
        "\n",
        "    return app\n",
        "\n",
        "#3. app/home/routes.py (Home Blueprint Routes):\n",
        "\n",
        "from flask import Blueprint, render_template\n",
        "\n",
        "# Create the Blueprint\n",
        "home_bp = Blueprint('home', __name__)\n",
        "\n",
        "@home_bp.route('/')\n",
        "def home():\n",
        "    return render_template('home.html')\n",
        "\n",
        "@home_bp.route('/about')\n",
        "def about():\n",
        "    return \"This is the About Page\"\n",
        "\n",
        "#4. app/auth/routes.py (Authentication Blueprint Routes):\n",
        "\n",
        "from flask import Blueprint, render_template\n",
        "\n",
        "# Create the Blueprint\n",
        "auth_bp = Blueprint('auth', __name__)\n",
        "\n",
        "@auth_bp.route('/login')\n",
        "def login():\n",
        "    return render_template('login.html')\n",
        "\n",
        "@auth_bp.route('/register')\n",
        "def register():\n",
        "    return render_template('register.html')\n",
        "\n",
        "#5. run.py (To Run the App):\n",
        "\n",
        "from app import create_app\n",
        "\n",
        "app = create_app()\n",
        "\n",
        "if __name__ == '__main__':\n",
        "    app.run(debug=True)\n"
      ]
    },
    {
      "cell_type": "markdown",
      "metadata": {
        "id": "01upRcskTfEO"
      },
      "source": [
        "Ques12) How do you define a custom Jinja filter in Flask?"
      ]
    },
    {
      "cell_type": "code",
      "execution_count": null,
      "metadata": {
        "id": "mkqm9CUGTpaY"
      },
      "outputs": [],
      "source": [
        "\n",
        "from flask import Flask\n",
        "from jinja2 import Environment\n",
        "\n",
        "app = Flask(__name__)\n",
        "\n",
        "def reverse_string(value):\n",
        "    if isinstance(value, str):\n",
        "        return value[::-1]  \n",
        "    return value\n",
        "\n",
        "app.jinja_env.filters['reverse'] = reverse_string\n",
        "\n",
        "@app.route('/')\n",
        "def home():\n",
        "    return render_template('home.html', text=\"Hello, Flask!\")\n",
        "\n",
        "if __name__ == '__main__':\n",
        "    app.run(debug=True)\n",
        "\n",
        "\n",
        "<!DOCTYPE html>\n",
        "<html lang=\"en\">\n",
        "<head>\n",
        "    <meta charset=\"UTF-8\">\n",
        "    <title>Custom Jinja Filter Example</title>\n",
        "</head>\n",
        "<body>\n",
        "    <h1>{{ text | reverse }}</h1>  <!-- Applying the 'reverse' filter -->\n",
        "</body>\n",
        "</html>\n"
      ]
    },
    {
      "cell_type": "markdown",
      "metadata": {
        "id": "0YXFQvvyTvCV"
      },
      "source": [
        "Ques13)  How can you redirect with query parameters in Flask?"
      ]
    },
    {
      "cell_type": "code",
      "execution_count": null,
      "metadata": {
        "id": "zosYAd-UTy3B"
      },
      "outputs": [],
      "source": [
        "from flask import Flask, redirect, url_for\n",
        "\n",
        "app = Flask(__name__)\n",
        "\n",
        "@app.route('/')\n",
        "def home():\n",
        "    return 'Home Page'\n",
        "\n",
        "@app.route('/search')\n",
        "def search():\n",
        "    query = \"Flask tutorial\"\n",
        "    return redirect(url_for('home', search_query=query))\n",
        "\n",
        "if __name__ == '__main__':\n",
        "    app.run(debug=True)\n"
      ]
    },
    {
      "cell_type": "markdown",
      "metadata": {
        "id": "b2G37oOkT5Ok"
      },
      "source": [
        "Ques14) How do you return JSON responses in Flask?"
      ]
    },
    {
      "cell_type": "code",
      "execution_count": null,
      "metadata": {
        "id": "YJXC7AC1T8Wf"
      },
      "outputs": [],
      "source": [
        "from flask import Flask, jsonify\n",
        "\n",
        "app = Flask(__name__)\n",
        "\n",
        "@app.route('/data')\n",
        "def data():\n",
        "    response_data = {\n",
        "        'status': 'success',\n",
        "        'message': 'This is a JSON response',\n",
        "        'items': ['item1', 'item2', 'item3']\n",
        "    }\n",
        "    return jsonify(response_data)\n",
        "\n",
        "if __name__ == '__main__':\n",
        "    app.run(debug=True)\n"
      ]
    },
    {
      "cell_type": "markdown",
      "metadata": {
        "id": "yDZWHVQdUEU7"
      },
      "source": [
        "Ques15) How do you capture URL parameters in Flask?"
      ]
    },
    {
      "cell_type": "code",
      "execution_count": null,
      "metadata": {
        "id": "KgZlsfybUMb6"
      },
      "outputs": [],
      "source": [
        "from flask import Flask\n",
        "\n",
        "app = Flask(__name__)\n",
        "\n",
        "@app.route('/user/<username>')\n",
        "def show_user_profile(username):\n",
        "    return f'User: {username}'\n",
        "\n",
        "@app.route('/post/<int:post_id>')\n",
        "def show_post(post_id):\n",
        "    return f'Post ID: {post_id}'\n",
        "\n",
        "if __name__ == '__main__':\n",
        "    app.run(debug=True)\n"
      ]
    }
  ],
  "metadata": {
    "colab": {
      "provenance": []
    },
    "kernelspec": {
      "display_name": "Python 3",
      "name": "python3"
    },
    "language_info": {
      "codemirror_mode": {
        "name": "ipython",
        "version": 3
      },
      "file_extension": ".py",
      "mimetype": "text/x-python",
      "name": "python",
      "nbconvert_exporter": "python",
      "pygments_lexer": "ipython3",
      "version": "3.13.0"
    }
  },
  "nbformat": 4,
  "nbformat_minor": 0
}
